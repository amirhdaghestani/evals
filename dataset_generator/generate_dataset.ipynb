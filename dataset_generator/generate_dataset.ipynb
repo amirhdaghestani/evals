{
 "cells": [
  {
   "cell_type": "code",
   "execution_count": 13,
   "metadata": {},
   "outputs": [],
   "source": [
    "import pandas as pd\n",
    "import os"
   ]
  },
  {
   "cell_type": "code",
   "execution_count": 5,
   "metadata": {},
   "outputs": [],
   "source": [
    "def create_chat_prompt(sys_msg, question):\n",
    "    user_prompt = f\"Customer: {question}\\nAgent:\"\n",
    "    return [\n",
    "        {\"role\": \"system\", \"content\": sys_msg}, \n",
    "        {\"role\": \"user\", \"content\": user_prompt}\n",
    "    ]"
   ]
  },
  {
   "cell_type": "code",
   "execution_count": 3,
   "metadata": {},
   "outputs": [],
   "source": [
    "sys_msg = \"تو ربات همراه اول هستی که به کاربران همراه اول جهت دریافت سوال‌هایشان کمک می‌کنی. به سوالات با صداقت کامل پاسخ بده و اگر پاسخ سوالی را نمیدانستی بگو نمیدانم.\""
   ]
  },
  {
   "cell_type": "code",
   "execution_count": 18,
   "metadata": {},
   "outputs": [],
   "source": [
    "test_df = pd.read_csv(\"RBT.csv\")\n",
    "test_df['input'] = test_df.apply(lambda x: create_chat_prompt(sys_msg, x['input']), axis=1)\n",
    "samples_pth = os.path.join(\"../evals/registry/data/test_modelgraded\", \"RBT.jsonl\")     \n",
    "test_df[[\"input\", \"ideal\"]].to_json(samples_pth, lines=True, orient=\"records\", force_ascii=False)"
   ]
  }
 ],
 "metadata": {
  "kernelspec": {
   "display_name": "Python 3",
   "language": "python",
   "name": "python3"
  },
  "language_info": {
   "codemirror_mode": {
    "name": "ipython",
    "version": 3
   },
   "file_extension": ".py",
   "mimetype": "text/x-python",
   "name": "python",
   "nbconvert_exporter": "python",
   "pygments_lexer": "ipython3",
   "version": "3.9.5"
  },
  "orig_nbformat": 4
 },
 "nbformat": 4,
 "nbformat_minor": 2
}
